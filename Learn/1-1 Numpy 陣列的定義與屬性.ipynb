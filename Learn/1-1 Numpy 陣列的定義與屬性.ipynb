{
 "cells": [
  {
   "cell_type": "code",
   "execution_count": 2,
   "metadata": {},
   "outputs": [
    {
     "name": "stdout",
     "output_type": "stream",
     "text": [
      "<module 'numpy' from '/Users/apple/opt/anaconda3/lib/python3.8/site-packages/numpy/__init__.py'>\n",
      "1.19.2\n"
     ]
    }
   ],
   "source": [
    "import numpy as np\n",
    "print(np) # <module 'numpy' from '.../numpy/__init__.py'>\n",
    "print(np.__version__) # 1.20.1"
   ]
  },
  {
   "cell_type": "code",
   "execution_count": 5,
   "metadata": {},
   "outputs": [
    {
     "name": "stdout",
     "output_type": "stream",
     "text": [
      "[[ 0  1  2  3  4]\n",
      " [ 5  6  7  8  9]\n",
      " [10 11 12 13 14]]\n",
      "<class 'numpy.ndarray'>\n",
      "2\n",
      "(3, 5)\n",
      "15\n",
      "int64\n",
      "8\n",
      "<memory at 0x7fbfba047e10>\n"
     ]
    }
   ],
   "source": [
    "# 建立 NumPy array (陣列)\n",
    "# 要用序列數字產生等差一維陣列的話，可以使用 arange() 與 linspace() 函式，兩者的函式引數很類似，\n",
    "# 其中結束值為必填，起始值、間隔值非必填。產生的序列數字包含起始值但不包含結束值，也就是 [start, stop) 的表示方式。\n",
    "\n",
    "# 1. range: 只能生成整型的序列\n",
    "# 2. np.arange([start,] stop[, step]): \n",
    "#    可生成整型、浮點型序列\n",
    "#    當使用非整數步驟(如0.1)時，結果往往不一致。對於這些情況，最好使用‘linspace’\n",
    "# 3. linspace(start, stop, num=50, endpoint=True, retstep=False, dtype=None)\n",
    "#\n",
    "# Python 內建的列表（List）是由獨立的元素所組成的容器，元素的型態可以不同。\n",
    "# 而 NumPy 陣列是同質性的（homogeneous）的物件，也就是每個元素的型態都必須相同。因此在底層定義與操作略有差異。\n",
    "# 陣列的元素會配置在連續的記憶體位置，而列表則沒有這樣的限制。\n",
    "\n",
    "# NdArray\n",
    "# 建立 3x5 的陣列，並且利用 type() 查看其類型。\n",
    "a = np.arange(15).reshape(3, 5)\n",
    "print(a)\n",
    "# array([[ 0,  1,  2,  3,  4],\n",
    "#        [ 5,  6,  7,  8,  9],\n",
    "#        [10, 11, 12, 13, 14]])\n",
    "\n",
    "print(type(a)) # <type 'numpy.ndarray'>\n",
    "print(a.ndim)  # 陣列有多少維度 2\n",
    "print(a.shape) # 每個維度的大小 (3, 5)\n",
    "print(a.size)  # 陣列當中有幾個元素 15\n",
    "print(a.dtype) # 陣列中的資料型態 int64\n",
    "print(a.itemsize) # 陣列中每個元素佔用的空間 8\n",
    "print(a.data) # 陣列所存在的記憶體位置\n",
    "print(a.strides)\n",
    "print(a.flags)"
   ]
  },
  {
   "cell_type": "code",
   "execution_count": 7,
   "metadata": {},
   "outputs": [
    {
     "name": "stdout",
     "output_type": "stream",
     "text": [
      "[array([0, 1, 2, 3, 4]), array([5, 6, 7, 8, 9]), array([10, 11, 12, 13, 14])]\n",
      "[[0, 1, 2, 3, 4], [5, 6, 7, 8, 9], [10, 11, 12, 13, 14]]\n"
     ]
    }
   ],
   "source": [
    "# List 與 Array 的轉換 \n",
    "# list(a) 只會把第一層的元素轉換成 List，多層的話只有第一層會轉；\n",
    "# tolist() 才能達成多層的型態轉換。\n",
    "list(a)\n",
    "print(list(a))\n",
    "# [array([0, 1, 2, 3, 4]), array([5, 6, 7, 8, 9]), array([10, 11, 12, 13, 14])]\n",
    "\n",
    "a.tolist()\n",
    "print(a.tolist())\n",
    "# [[0, 1, 2, 3, 4], [5, 6, 7, 8, 9], [10, 11, 12, 13, 14]]"
   ]
  },
  {
   "cell_type": "code",
   "execution_count": null,
   "metadata": {},
   "outputs": [],
   "source": []
  }
 ],
 "metadata": {
  "kernelspec": {
   "display_name": "Python 3",
   "language": "python",
   "name": "python3"
  },
  "language_info": {
   "codemirror_mode": {
    "name": "ipython",
    "version": 3
   },
   "file_extension": ".py",
   "mimetype": "text/x-python",
   "name": "python",
   "nbconvert_exporter": "python",
   "pygments_lexer": "ipython3",
   "version": "3.8.5"
  }
 },
 "nbformat": 4,
 "nbformat_minor": 4
}
