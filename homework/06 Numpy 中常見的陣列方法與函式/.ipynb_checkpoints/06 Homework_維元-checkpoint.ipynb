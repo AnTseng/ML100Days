{
 "cells": [
  {
   "cell_type": "markdown",
   "metadata": {
    "id": "P6xk2_jLsvFF"
   },
   "source": [
    "# [作業目標]\n",
    "\n",
    "1. [簡答題] 請問下列這三種方法有什麼不同？\n",
    "\n",
    "```\n",
    "print(a.sum()) \n",
    "print(np.sum(a))\n",
    "print(sum(a)) \n",
    "```\n",
    "\n",
    "2. 請對一個 5x5 的隨機矩陣作正規化的操作。\n",
    "\n",
    "3. 請建立一個長度等於 10 的正整數向量，並且將其中的最大值改成 -1。\n"
   ]
  },
  {
   "cell_type": "markdown",
   "metadata": {
    "id": "uXGll28asvFS"
   },
   "source": [
    "# 作業 "
   ]
  },
  {
   "cell_type": "markdown",
   "metadata": {
    "id": "lbz8VjL6jxyL"
   },
   "source": [
    "### 1. [簡答題] 請問下列這三種方法有什麼不同？\n",
    "\n",
    "```\n",
    "print(a.sum()) \n",
    "print(np.sum(a))\n",
    "print(sum(a)) \n",
    "```\n",
    "\n"
   ]
  },
  {
   "cell_type": "code",
   "execution_count": null,
   "metadata": {
    "id": "5QrYoyNWsvFS",
    "outputId": "e9e14d36-38ce-4ce5-edf2-3c7b129db580"
   },
   "outputs": [
    {
     "data": {
      "text/plain": [
       "'\\nYour Code\\n'"
      ]
     },
     "execution_count": 3,
     "metadata": {
      "tags": []
     },
     "output_type": "execute_result"
    }
   ],
   "source": [
    "# a.sum 在多維下，可以設定軸(Axis)的參數 \n",
    "\n",
    "# sum() 是 python 內建的函式，所有型態皆可以用。\n",
    "# np.sum(a) 跟 a.sum() 是陣列專有的函式，差別在於定義在 np 或是 array 底下。"
   ]
  },
  {
   "cell_type": "markdown",
   "metadata": {
    "id": "vVrjBXabjxyS"
   },
   "source": [
    "### 2. 請對一個 5x5 的隨機矩陣作正規化的操作。\n"
   ]
  },
  {
   "cell_type": "code",
   "execution_count": 1,
   "metadata": {
    "id": "ffDRVHs9jxyS"
   },
   "outputs": [],
   "source": [
    "# 記得先 Import 正確的套件\n",
    "import numpy as np\n",
    "\n",
    "# 標準化(Standization)：將資料以特定的加減乘除使其尺度落於一樣的0-1，可以使各資料的權重差不多。\n",
    "# 規一化(Normalization)：將資料除去單位，並使其數值領域維0-1，可以讓不同屬性的資料可以比較\n",
    "# 公式 = Xnom = X - Xmin / Xmax - Xmin"
   ]
  },
  {
   "cell_type": "code",
   "execution_count": 7,
   "metadata": {
    "id": "e1gVI0tvsvFY",
    "outputId": "43bf676f-fd04-4edf-c062-b5fe7fe1f4bf"
   },
   "outputs": [
    {
     "name": "stdout",
     "output_type": "stream",
     "text": [
      "[[0.94994618 0.9876218  0.51622909 0.44749073 0.59996959]\n",
      " [0.32124275 0.02685147 0.63670236 0.70725828 0.82492753]\n",
      " [0.63974694 0.95192304 0.31764812 0.98286163 0.37489984]\n",
      " [0.55035366 0.75335292 0.22382572 0.42075556 0.4709243 ]\n",
      " [0.59362762 0.99284225 0.37313563 0.72909112 0.05474944]]\n"
     ]
    },
    {
     "data": {
      "text/plain": [
       "array([[0.9555937 , 0.99459575, 0.50660692, 0.43544852, 0.59329564],\n",
       "       [0.30475579, 0.        , 0.63132164, 0.7043616 , 0.82617357],\n",
       "       [0.63447341, 0.95764017, 0.3010346 , 0.98966799, 0.36030196],\n",
       "       [0.5419329 , 0.75207907, 0.20390904, 0.4077721 , 0.45970711],\n",
       "       [0.58673039, 1.        , 0.35847563, 0.72696309, 0.02888016]])"
      ]
     },
     "execution_count": 7,
     "metadata": {},
     "output_type": "execute_result"
    }
   ],
   "source": [
    "A = np.random.random((5, 5))\n",
    "print(A)\n",
    "\n",
    "A = (A - A.min()) / (A.max() - A.min())\n",
    "A"
   ]
  },
  {
   "cell_type": "markdown",
   "metadata": {
    "id": "Ptc3ZrNQjxyU"
   },
   "source": [
    "### 3. 請建立一個長度等於 10 的正整數向量，並且將其中的最大值改成 -1。\n"
   ]
  },
  {
   "cell_type": "code",
   "execution_count": 9,
   "metadata": {
    "id": "Yu1kbLxojxyU",
    "outputId": "d323e754-178a-46ae-e15e-98275ae220dd"
   },
   "outputs": [
    {
     "name": "stdout",
     "output_type": "stream",
     "text": [
      "[-1.          0.50117592  0.50135791  0.48912404  0.74438731  0.08057257\n",
      "  0.75323678  0.14026043  0.13347077  0.29359673]\n"
     ]
    }
   ],
   "source": [
    "B = np.random.random((10))\n",
    "B[B.argmax()] = -1\n",
    "print(B)\n"
   ]
  },
  {
   "cell_type": "code",
   "execution_count": null,
   "metadata": {},
   "outputs": [],
   "source": []
  }
 ],
 "metadata": {
  "colab": {
   "name": "06 Homework_維元.ipynb",
   "provenance": []
  },
  "kernelspec": {
   "display_name": "Python 3",
   "language": "python",
   "name": "python3"
  },
  "language_info": {
   "codemirror_mode": {
    "name": "ipython",
    "version": 3
   },
   "file_extension": ".py",
   "mimetype": "text/x-python",
   "name": "python",
   "nbconvert_exporter": "python",
   "pygments_lexer": "ipython3",
   "version": "3.8.5"
  }
 },
 "nbformat": 4,
 "nbformat_minor": 1
}
