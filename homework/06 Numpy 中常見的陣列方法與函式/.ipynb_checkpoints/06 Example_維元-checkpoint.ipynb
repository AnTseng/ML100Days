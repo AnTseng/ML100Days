{
 "cells": [
  {
   "cell_type": "markdown",
   "metadata": {},
   "source": [
    "# 範例\n",
    "***"
   ]
  },
  {
   "cell_type": "markdown",
   "metadata": {},
   "source": [
    "# [教學目標]\n",
    "\n",
    "* 了解並且學會使用陣列中的統計方法\n",
    "* 了解並且學會使用陣列中的搜尋與排序方法\n",
    "* 了解並且學會使用陣列中的形狀方法\n",
    "\n"
   ]
  },
  {
   "cell_type": "code",
   "execution_count": 2,
   "metadata": {},
   "outputs": [
    {
     "name": "stdout",
     "output_type": "stream",
     "text": [
      "<module 'numpy' from '/Users/cm0675/opt/anaconda3/lib/python3.8/site-packages/numpy/__init__.py'>\n",
      "1.19.2\n"
     ]
    }
   ],
   "source": [
    "# 載入 NumPy 套件\n",
    "import numpy as np\n",
    "\n",
    "# 檢查正確載入與版本\n",
    "print(np)\n",
    "print(np.__version__)"
   ]
  },
  {
   "cell_type": "code",
   "execution_count": 4,
   "metadata": {},
   "outputs": [
    {
     "name": "stdout",
     "output_type": "stream",
     "text": [
      "[0 1 2 3 4 5]\n",
      "15\n",
      "0\n",
      "5\n"
     ]
    }
   ],
   "source": [
    "# 陣列中的統計方法\n",
    "\n",
    "\n",
    "a = np.arange(6)\n",
    "print(a)\n",
    "# [0 1 2 3 4 5]\n",
    "\n",
    "print(a.sum()) # 15\n",
    "print(a.min()) # 0\n",
    "print(a.max()) # 5\n"
   ]
  },
  {
   "cell_type": "code",
   "execution_count": null,
   "metadata": {},
   "outputs": [],
   "source": [
    "# NumPy 陣列統計函式 - 順序統計量\n",
    "\n",
    "# numpy.fmax(), numpy.fmin()\n",
    "# 1 以 element-wise 比較 2 個陣列並回傳各元素的最大值或最小值。\n",
    "#   與 maximum() / minimum() 不同的是，如果比較的元素中只有一個是 nan 的話，\n",
    "#   回傳非 nan 的值，如果兩個元素都是 nan 則回傳 nan\n",
    "# 2 同樣在進行比較時，若有需要會利用到廣播 (bradcasting)。\n",
    "\n",
    "# numpy.nanmax(), numpy.nanmin()\n",
    "# 1 回傳陣列中有非 nan 元素值的最大值或最小值。\n",
    "# 2 可以指定要比較的軸(axis)，以及回傳值是否要保留維度。\n",
    "\n",
    "# 百分位數：percentile(), nanpercentile()\n",
    "# 1 計算百分位數，percentile() 與 nanpercentile() 不同的地方在於後者會忽略 nan。\n",
    "# 2 欲取得的百分位數引數，可以傳入純量或是陣列的值 (介於0 - 100 之間)，也可以指定要比較的軸，以及回傳值是否要保留維度。\n",
    "\n",
    "# 分位數：quantile(), nanquantile()\n",
    "# 1 計算分位數，quantile() 與 nan quantile()\n",
    "#   不同的地方在於後者會忽略 nan。如果元素中包含 nan 的話，則 quantile() 會回傳 nan\n",
    "# 2 欲取得的分位數引數，可以傳入純量或是陣列的值 (介於0 - 1 之間)，\n",
    "#   也可以指定要比較的軸，以及回傳值是否要保留維度"
   ]
  },
  {
   "cell_type": "code",
   "execution_count": 5,
   "metadata": {},
   "outputs": [
    {
     "name": "stdout",
     "output_type": "stream",
     "text": [
      "15\n",
      "15\n",
      "15\n"
     ]
    }
   ],
   "source": [
    "# 一種功能，三種函式\n",
    "\n",
    "\n",
    "a = np.arange(6)\n",
    "\n",
    "print(a.sum()) # 15\n",
    "print(np.sum(a)) # 15\n",
    "print(sum(a)) # 15"
   ]
  },
  {
   "cell_type": "code",
   "execution_count": 6,
   "metadata": {},
   "outputs": [
    {
     "name": "stdout",
     "output_type": "stream",
     "text": [
      "66\n",
      "[12 15 18 21]\n",
      "[ 6 22 38]\n"
     ]
    }
   ],
   "source": [
    "# 陣列中的軸參數\n",
    "\n",
    "b = np.arange(12).reshape(3, 4)\n",
    "# array([[ 0,  1,  2,  3],\n",
    "#        [ 4,  5,  6,  7],\n",
    "#        [ 8,  9, 10, 11]])\n",
    "\n",
    "print(b.sum())\n",
    "# 66\n",
    "\n",
    "print(b.sum(axis=0))\n",
    "# array([12, 15, 18, 21])\n",
    "\n",
    "print(b.sum(axis=1))\n",
    "# array([6, 22, 38])\n",
    "\n",
    "\n",
    "# axis = 0 \n",
    "# ↓↓↓↓↓\n",
    "# ↓↓↓↓↓\n",
    "# ↓↓↓↓↓\n",
    "\n",
    "# axis = 1\n",
    "# →→→→→\n",
    "# →→→→→\n",
    "# →→→→→\n",
    "\n",
    "# axis = None\n",
    "# →→→→↓\n",
    "# ↓←←←←\n",
    "# →→→→→"
   ]
  },
  {
   "cell_type": "code",
   "execution_count": 7,
   "metadata": {},
   "outputs": [
    {
     "name": "stdout",
     "output_type": "stream",
     "text": [
      "None\n",
      "[1 2 3 4 5]\n"
     ]
    }
   ],
   "source": [
    "# 搜尋與排序方法\n",
    "\n",
    "import numpy as np \n",
    "\n",
    "a = np.array([1, 3, 2, 5, 4])\n",
    "print(a.sort())\n",
    "# None\n",
    "print(a)\n",
    "# [1 2 3 4 5]\n",
    "\n",
    "# ndarray.sort(axis=-1, kind=None, …)\n",
    "# axis：預設 = -1，指的是排序的方向\n",
    "# kind：有四種排序算法可以選（quicksort, mergesort, heapsort, stable），預設為 quicksort 演算法\n"
   ]
  },
  {
   "cell_type": "code",
   "execution_count": 8,
   "metadata": {},
   "outputs": [
    {
     "name": "stdout",
     "output_type": "stream",
     "text": [
      "[1 2 3 4 5]\n",
      "[1 3 2 5 4]\n"
     ]
    }
   ],
   "source": [
    "import numpy as np \n",
    "\n",
    "a = np.array([1, 3, 2, 5, 4])\n",
    "print(np.sort(a))\n",
    "# [1 2 3 4 5]\n",
    "print(a)\n",
    "# [1 3 2 5 4]\n",
    "\n",
    "# numpy.sort(a, axis=-1, kind=None, …)\n",
    "# a：必填，任何需要被排序的 array_like 物件\n",
    "# axis：預設 = -1，指的是排序的方向\n",
    "# kind：有四種排序算法可以選（quicksort, mergesort, heapsort, stable），預設為 quicksort 演算法"
   ]
  },
  {
   "cell_type": "code",
   "execution_count": 10,
   "metadata": {},
   "outputs": [
    {
     "name": "stdout",
     "output_type": "stream",
     "text": [
      "[0 5 2 4 0]\n"
     ]
    }
   ],
   "source": [
    "# 搜尋與排序方法\n",
    "\n",
    "import numpy as np \n",
    "\n",
    "np.searchsorted([1,2,3,4,5], 3)\n",
    "# 2\n",
    "\n",
    "print(np.searchsorted(\n",
    "    [1, 2, 3, 4, 5],\n",
    "    [-10, 10, 3, 5, 1]\n",
    "))\n",
    "# [0, 5, 2, 4]\n"
   ]
  },
  {
   "cell_type": "code",
   "execution_count": 14,
   "metadata": {},
   "outputs": [
    {
     "name": "stdout",
     "output_type": "stream",
     "text": [
      "[[0 1]\n",
      " [2 3]\n",
      " [4 5]]\n",
      "[[0 1 2]\n",
      " [3 4 5]]\n",
      "[0 1 2 3 4 5]\n"
     ]
    }
   ],
   "source": [
    "# reshape 和 resize\n",
    "# reshape(...) 和 resize(...) 都可以將陣列的形狀改變\n",
    "# 與 reshape() 不同的地方在於，如果 resize 的大小超過總元素值，則會在後面的元素值的指定為 0\n",
    "\n",
    "# reshapeS可將陣列重塑為該形狀，但如果新的總數與原先 shape 總數不一致的話，則會產生錯誤\n",
    "# Reshape 時，新的形狀可以採用模糊指定為 -1，讓 NumPy 自動計算，例如：a.reshape((5, -1))。\n",
    "import numpy as np \n",
    "\n",
    "a = np.arange(6)\n",
    "# [0, 1, 2, 3, 4, 5]\n",
    "\n",
    "print(a.reshape(3, 2))\n",
    "# [[0 1]\n",
    "#  [2 3]\n",
    "#  [4 5]]\n",
    "\n",
    "print(a.reshape(2, -1))\n",
    "# [[0 1 2]\n",
    "# [3 4 5]]\n",
    "\n",
    "print(a)\n",
    "# [0, 1, 2, 3, 4, 5]"
   ]
  },
  {
   "cell_type": "code",
   "execution_count": 12,
   "metadata": {},
   "outputs": [
    {
     "name": "stdout",
     "output_type": "stream",
     "text": [
      "None\n",
      "[[0 1]\n",
      " [2 3]\n",
      " [4 5]]\n"
     ]
    }
   ],
   "source": [
    "import numpy as np \n",
    "\n",
    "a = np.arange(6)\n",
    "# [0, 1, 2, 3, 4, 5]\n",
    "\n",
    "print(a.resize((3, 2)))\n",
    "# None\n",
    "\n",
    "print(a)\n",
    "# [[0 1]\n",
    "#  [2 3]\n",
    "#  [4 5]]"
   ]
  },
  {
   "cell_type": "code",
   "execution_count": 12,
   "metadata": {},
   "outputs": [
    {
     "name": "stdout",
     "output_type": "stream",
     "text": [
      "[0 1 2 3 4 5]\n",
      "[0 1 2 3 4 5]\n",
      "<numpy.flatiter object at 0x7f8854811200>\n",
      "[0, 1, 2, 3, 4, 5]\n"
     ]
    }
   ],
   "source": [
    "# 三種陣列攤平用法\n",
    "# 透過 flatten() 與 ravel() 均可將多維陣列轉形為一維陣列，\n",
    "# flatten() 與 ravel() 的使用透過下列兩種方法，得到的結果都是完全一樣的\n",
    "\n",
    "# 不同的是，ravel() 建立的是原來陣列的 view，\n",
    "# 所以在 ravel() 回傳物件中做的元素值變更，將會影響原陣列的元素值。\n",
    "\n",
    "import numpy as np \n",
    "\n",
    "a = np.arange(6).reshape((3, 2))\n",
    "# [[0 1]\n",
    "#  [2 3]\n",
    "#  [4 5]]\n",
    "\n",
    "print(a.ravel() )\n",
    "print(a.flatten())\n",
    "print(a.flat)\n",
    "print(list(a.flat))"
   ]
  },
  {
   "cell_type": "code",
   "execution_count": null,
   "metadata": {},
   "outputs": [],
   "source": []
  }
 ],
 "metadata": {
  "kernelspec": {
   "display_name": "Python 3",
   "language": "python",
   "name": "python3"
  },
  "language_info": {
   "codemirror_mode": {
    "name": "ipython",
    "version": 3
   },
   "file_extension": ".py",
   "mimetype": "text/x-python",
   "name": "python",
   "nbconvert_exporter": "python",
   "pygments_lexer": "ipython3",
   "version": "3.8.5"
  }
 },
 "nbformat": 4,
 "nbformat_minor": 2
}
