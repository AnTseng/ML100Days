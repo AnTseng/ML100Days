{
 "cells": [
  {
   "cell_type": "markdown",
   "metadata": {},
   "source": [
    "# 範例\n",
    "***"
   ]
  },
  {
   "cell_type": "markdown",
   "metadata": {},
   "source": [
    "# [教學目標]\n",
    "\n",
    "* 認識 NumPy 中提供的資料型態\n",
    "* 了解各種型態的差異與定義\n",
    "* 正確的比較型態判斷\n",
    "\n"
   ]
  },
  {
   "cell_type": "code",
   "execution_count": 4,
   "metadata": {},
   "outputs": [
    {
     "name": "stdout",
     "output_type": "stream",
     "text": [
      "<module 'numpy' from '/Users/apple/opt/anaconda3/lib/python3.8/site-packages/numpy/__init__.py'>\n",
      "1.19.2\n"
     ]
    }
   ],
   "source": [
    "# 載入 NumPy 套件\n",
    "import numpy as np\n",
    "\n",
    "# 檢查正確載入與版本\n",
    "print(np)\n",
    "print(np.__version__)"
   ]
  },
  {
   "cell_type": "code",
   "execution_count": 5,
   "metadata": {},
   "outputs": [
    {
     "name": "stdout",
     "output_type": "stream",
     "text": [
      "[[ 0  1  2  3  4]\n",
      " [ 5  6  7  8  9]\n",
      " [10 11 12 13 14]]\n"
     ]
    },
    {
     "data": {
      "text/plain": [
       "array([[ 0,  1,  2,  3,  4],\n",
       "       [ 5,  6,  7,  8,  9],\n",
       "       [10, 11, 12, 13, 14]])"
      ]
     },
     "execution_count": 5,
     "metadata": {},
     "output_type": "execute_result"
    }
   ],
   "source": [
    "# 從一個陣列開始\n",
    "\n",
    "a = np.arange(15).reshape(3, 5)\n",
    "print(a) # 利用 print(...) 印出陣列\n",
    "a # 利用 Jupyter 印出陣列"
   ]
  },
  {
   "cell_type": "code",
   "execution_count": 3,
   "metadata": {},
   "outputs": [
    {
     "name": "stdout",
     "output_type": "stream",
     "text": [
      "int64\n",
      "8\n"
     ]
    }
   ],
   "source": [
    "# 陣列的常用屬性\n",
    "\n",
    "print(a.dtype) # int64\n",
    "print(a.itemsize) # 8\n"
   ]
  },
  {
   "cell_type": "code",
   "execution_count": 7,
   "metadata": {},
   "outputs": [
    {
     "name": "stdout",
     "output_type": "stream",
     "text": [
      "True\n",
      "False\n"
     ]
    }
   ],
   "source": [
    "# numpy 中的型態判斷\n",
    "# NumPy 型態的定義是一個 np.dtype 的物件，包含「型態名稱」、「表示範圍」及「儲存空間」等等的資訊。\n",
    "# 而「is」跟「==」的差異在於 is 是強比較，必須要所有規格都相同，包含是哪一種物件；\n",
    "# 而 == 的比較只會考慮自定義的規則，例如只需要物件的表現形式\n",
    "\n",
    "print(a.dtype == 'int64') \n",
    "#print(a.dtype is 'int64') \n",
    "print(a.dtype is np.int64) \n"
   ]
  },
  {
   "cell_type": "code",
   "execution_count": 8,
   "metadata": {},
   "outputs": [
    {
     "name": "stdout",
     "output_type": "stream",
     "text": [
      "True\n",
      "True\n",
      "True\n"
     ]
    }
   ],
   "source": [
    "# 資料型態的正確用法\n",
    "\n",
    "print(a.dtype == 'int64') # True\n",
    "print(a.dtype == np.int64) # True\n",
    "print(a.dtype is np.dtype('int64')) # True\n"
   ]
  },
  {
   "cell_type": "code",
   "execution_count": 9,
   "metadata": {},
   "outputs": [
    {
     "name": "stdout",
     "output_type": "stream",
     "text": [
      "True\n",
      "True\n",
      "True\n"
     ]
    }
   ],
   "source": [
    "print(a.dtype == 'int') \n",
    "print(a.dtype == np.int) \n",
    "print(a.dtype == np.dtype('int')) \n",
    "\n",
    "# int 代表「執行電腦中最大可表示的範圍」，會取決於電腦不同而產生不同的結果"
   ]
  },
  {
   "cell_type": "code",
   "execution_count": null,
   "metadata": {},
   "outputs": [],
   "source": []
  }
 ],
 "metadata": {
  "kernelspec": {
   "display_name": "Python 3",
   "language": "python",
   "name": "python3"
  },
  "language_info": {
   "codemirror_mode": {
    "name": "ipython",
    "version": 3
   },
   "file_extension": ".py",
   "mimetype": "text/x-python",
   "name": "python",
   "nbconvert_exporter": "python",
   "pygments_lexer": "ipython3",
   "version": "3.8.5"
  }
 },
 "nbformat": 4,
 "nbformat_minor": 2
}
