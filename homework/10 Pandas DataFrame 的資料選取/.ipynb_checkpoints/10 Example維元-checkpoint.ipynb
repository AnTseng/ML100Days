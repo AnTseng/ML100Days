{
 "cells": [
  {
   "cell_type": "markdown",
   "metadata": {},
   "source": [
    "# 範例\n",
    "***"
   ]
  },
  {
   "cell_type": "markdown",
   "metadata": {},
   "source": [
    "# [教學目標]\n",
    "\n",
    "* 正確使用欄位名稱與索引選取資料\n",
    "* 正確使用 location 座標選取資料\n",
    "* 正確使用 遮罩操作 選取資料\n",
    "\n"
   ]
  },
  {
   "cell_type": "code",
   "execution_count": 34,
   "metadata": {},
   "outputs": [
    {
     "name": "stdout",
     "output_type": "stream",
     "text": [
      "<module 'numpy' from '/Users/cm0675/opt/anaconda3/lib/python3.8/site-packages/numpy/__init__.py'>\n",
      "1.19.2\n",
      "<module 'pandas' from '/Users/cm0675/opt/anaconda3/lib/python3.8/site-packages/pandas/__init__.py'>\n",
      "1.1.3\n"
     ]
    }
   ],
   "source": [
    "# 載入 NumPy, Pandas 套件\n",
    "import numpy as np\n",
    "import pandas as pd\n",
    "\n",
    "# 檢查正確載入與版本\n",
    "print(np)\n",
    "print(np.__version__)\n",
    "print(pd)\n",
    "print(pd.__version__)"
   ]
  },
  {
   "cell_type": "code",
   "execution_count": 21,
   "metadata": {},
   "outputs": [
    {
     "name": "stdout",
     "output_type": "stream",
     "text": [
      "        date    open   close\n",
      "0  109/10/05  103.45  103.05\n",
      "1  109/10/06  104.00  104.25\n",
      "2  109/10/07  104.00  104.80\n",
      "3  109/10/08  105.45  106.20\n",
      "4  109/10/12  106.70  107.05\n",
      "5  109/10/13  107.35  107.10\n",
      "        date    open    high\n",
      "0  109/10/08  105.45  106.35\n",
      "1  109/10/12  106.70  107.70\n",
      "2  109/10/13  107.35  107.60\n",
      "3  109/10/14  107.05  107.20\n",
      "4  109/10/15  106.50  106.50\n"
     ]
    }
   ],
   "source": [
    "# 股票資料\n",
    "d = [\n",
    "    ['109/10/05', 103.45, 103.05],\n",
    "    ['109/10/06', 104.00, 104.25],\n",
    "    ['109/10/07', 104.00, 104.80],\n",
    "    ['109/10/08', 105.45, 106.20],\n",
    "    ['109/10/12', 106.70, 107.05],\n",
    "    ['109/10/13', 107.35, 107.10]\n",
    "]\n",
    "\n",
    "stock_data1 = pd.DataFrame(d, columns=['date', 'open', 'close'])\n",
    "print(stock_data1)\n",
    "\n",
    "d = [\n",
    "    ['109/10/08', 105.45, 106.35],\n",
    "    ['109/10/12', 106.70, 107.70],\n",
    "    ['109/10/13', 107.35, 107.60],\n",
    "    ['109/10/14', 107.05, 107.20],\n",
    "    ['109/10/15', 106.50, 106.50]\n",
    "]\n",
    "\n",
    "stock_data2 = pd.DataFrame(d, columns=['date', 'open', 'high'])\n",
    "print(stock_data2)"
   ]
  },
  {
   "cell_type": "code",
   "execution_count": 9,
   "metadata": {},
   "outputs": [
    {
     "name": "stdout",
     "output_type": "stream",
     "text": [
      "        date    open   close\n",
      "0  109/10/05  103.45  103.05\n",
      "        date    open   close\n",
      "0  109/10/05  103.45  103.05\n",
      "     open   close\n",
      "3  105.45  106.20\n",
      "4  106.70  107.05\n",
      "        date    open   close\n",
      "3  109/10/08  105.45  106.20\n",
      "4  109/10/12  106.70  107.05\n",
      "5  109/10/13  107.35  107.10\n",
      "        date    open\n",
      "3  109/10/08  105.45\n",
      "4  109/10/12  106.70\n",
      "5  109/10/13  107.35\n"
     ]
    }
   ],
   "source": [
    "# 資料過濾、選擇\n",
    "# 利用[]和.loc[]做布林邏輯選擇資料，回傳為 True 的資料\n",
    "print(stock_data1[stock_data1.open<104])\n",
    "\n",
    "print(stock_data1.loc[stock_data1.open<104])\n",
    "\n",
    "# 其中.iloc[] / loc[]可以一併選擇欄位，則[]不行選擇欄位。\n",
    "print(stock_data1.loc[(stock_data1.open < 107) & (stock_data1.close > 105), ['open', 'close']])\n",
    "\n",
    "# 利用.iloc[]針對索引做過濾，也可以一併選擇欄位，不過在這裡不是用欄位名稱選擇而是用欄位的位子做選擇\n",
    "print(stock_data1.iloc[3:6])\n",
    "\n",
    "print(stock_data1.iloc[3:6, :2])"
   ]
  },
  {
   "cell_type": "code",
   "execution_count": 15,
   "metadata": {},
   "outputs": [
    {
     "name": "stdout",
     "output_type": "stream",
     "text": [
      "        date    open   close    high\n",
      "0  109/10/05  103.45  103.05     NaN\n",
      "1  109/10/06  104.00  104.25     NaN\n",
      "2  109/10/07  104.00  104.80     NaN\n",
      "3  109/10/08  105.45  106.20     NaN\n",
      "4  109/10/12  106.70  107.05     NaN\n",
      "5  109/10/13  107.35  107.10     NaN\n",
      "0  109/10/08  105.45     NaN  106.35\n",
      "1  109/10/12  106.70     NaN  107.70\n",
      "2  109/10/13  107.35     NaN  107.60\n",
      "3  109/10/14  107.05     NaN  107.20\n",
      "4  109/10/15  106.50     NaN  106.50\n",
      "        date    open   close       date    open    high\n",
      "0  109/10/05  103.45  103.05  109/10/08  105.45  106.35\n",
      "1  109/10/06  104.00  104.25  109/10/12  106.70  107.70\n",
      "2  109/10/07  104.00  104.80  109/10/13  107.35  107.60\n",
      "3  109/10/08  105.45  106.20  109/10/14  107.05  107.20\n",
      "4  109/10/12  106.70  107.05  109/10/15  106.50  106.50\n",
      "5  109/10/13  107.35  107.10        NaN     NaN     NaN\n",
      "        date    open\n",
      "0  109/10/05  103.45\n",
      "1  109/10/06  104.00\n",
      "2  109/10/07  104.00\n",
      "3  109/10/08  105.45\n",
      "4  109/10/12  106.70\n",
      "5  109/10/13  107.35\n",
      "0  109/10/08  105.45\n",
      "1  109/10/12  106.70\n",
      "2  109/10/13  107.35\n",
      "3  109/10/14  107.05\n",
      "4  109/10/15  106.50\n"
     ]
    }
   ],
   "source": [
    "# 合併資料\n",
    "# 串連(concat)\n",
    "# pandas 的可以將多個物件的資料合成一個新物件\n",
    "# DataFrame 的串連(concat)可以在任何指定的欄位進行結合，如資料對其後出現遺漏值將會填入 NaN。\n",
    "\n",
    "# stock_data1 欄位有[date,open,close]，stock_data2 欄位有[date,open,high]，\n",
    "# 使用 concat 串聯參數 axis=0 縱向結合後發現 \n",
    "# stock_data1 不存在 high 欄位，stock_data2 不存在 close 欄位，那麼該位子會被填入 NaN。\n",
    "print(pd.concat([stock_data1, stock_data2], axis = 0))\n",
    "\n",
    "\n",
    "# 使用concat串聯參數axis=1橫向結合，會以列索引標籤對齊。\n",
    "print(pd.concat([stock_data1, stock_data2], axis = 1))\n",
    "\n",
    "# 串連(concat)在合併資料時，連結類型預設是外連結(outer join)連集的操作，連結類型可以用 join 參數調整，\n",
    "# 如 join=’inner’ 表示連結型態為內連結(inner join)交集的操作。\n",
    "print(pd.concat([stock_data1, stock_data2], axis = 0, join = 'inner'))"
   ]
  },
  {
   "cell_type": "code",
   "execution_count": 19,
   "metadata": {},
   "outputs": [
    {
     "name": "stdout",
     "output_type": "stream",
     "text": [
      "        date  open_x   close  open_y    high\n",
      "0  109/10/05  103.45  103.05     NaN     NaN\n",
      "1  109/10/06  104.00  104.25     NaN     NaN\n",
      "2  109/10/07  104.00  104.80     NaN     NaN\n",
      "3  109/10/08  105.45  106.20  105.45  106.35\n",
      "4  109/10/12  106.70  107.05  106.70  107.70\n",
      "5  109/10/13  107.35  107.10  107.35  107.60\n",
      "6  109/10/14     NaN     NaN  107.05  107.20\n",
      "7  109/10/15     NaN     NaN  106.50  106.50\n",
      "        date  open_x   close  open_y    high\n",
      "0  109/10/08  105.45  106.20  105.45  106.35\n",
      "1  109/10/12  106.70  107.05  106.70  107.70\n",
      "2  109/10/13  107.35  107.10  107.35  107.60\n",
      "        date  open_x   close  open_y    high\n",
      "0  109/10/05  103.45  103.05     NaN     NaN\n",
      "1  109/10/06  104.00  104.25     NaN     NaN\n",
      "2  109/10/07  104.00  104.80     NaN     NaN\n",
      "3  109/10/08  105.45  106.20  105.45  106.35\n",
      "4  109/10/12  106.70  107.05  106.70  107.70\n",
      "5  109/10/13  107.35  107.10  107.35  107.60\n",
      "        date  open_x   close  open_y    high\n",
      "0  109/10/08  105.45  106.20  105.45  106.35\n",
      "1  109/10/12  106.70  107.05  106.70  107.70\n",
      "2  109/10/13  107.35  107.10  107.35  107.60\n",
      "3  109/10/14     NaN     NaN  107.05  107.20\n",
      "4  109/10/15     NaN     NaN  106.50  106.50\n"
     ]
    }
   ],
   "source": [
    "# 合併(merge)\n",
    "# 合併是藉由找出一或多個行或列索引的吻合值，然後將兩資料結合。\n",
    "\n",
    "# pd.merge() 預設連結類型為內連結(inner join)，參數 how 可以更改連結類型，\n",
    "# inner : 兩資料集的交集\n",
    "# outer: 兩資料集的聯集\n",
    "# left   : 只使用左資料的合併欄位(key)\n",
    "# right : 只使用右資料的合併欄位(key)\n",
    "\n",
    "# 以下為針對合併欄位 (key)date 做合併，合併方式為 how=’outer’ 外連結，\n",
    "# 如除了合併欄位 date 之外還有相同欄位名稱，\n",
    "# pandas 將會自動把重複欄位名稱加上 '_x' 代表左邊 DataFrame stock_data1 的重複欄位open，\n",
    "# 加上 '_y' 代表右邊 DataFrame stock_data2 的重複欄位 open。\n",
    "print(pd.merge(stock_data1, stock_data2, on='date', how='outer'))\n",
    "\n",
    "print(pd.merge(stock_data1, stock_data2, on='date'))\n",
    "\n",
    "print(pd.merge(stock_data1, stock_data2, on='date', how='left'))\n",
    "\n",
    "print(pd.merge(stock_data1, stock_data2, on='date', how='right'))"
   ]
  },
  {
   "cell_type": "code",
   "execution_count": 23,
   "metadata": {},
   "outputs": [
    {
     "data": {
      "text/html": [
       "<div>\n",
       "<style scoped>\n",
       "    .dataframe tbody tr th:only-of-type {\n",
       "        vertical-align: middle;\n",
       "    }\n",
       "\n",
       "    .dataframe tbody tr th {\n",
       "        vertical-align: top;\n",
       "    }\n",
       "\n",
       "    .dataframe thead th {\n",
       "        text-align: right;\n",
       "    }\n",
       "</style>\n",
       "<table border=\"1\" class=\"dataframe\">\n",
       "  <thead>\n",
       "    <tr style=\"text-align: right;\">\n",
       "      <th></th>\n",
       "      <th>open_left</th>\n",
       "      <th>close</th>\n",
       "      <th>open_right</th>\n",
       "      <th>high</th>\n",
       "    </tr>\n",
       "    <tr>\n",
       "      <th>date</th>\n",
       "      <th></th>\n",
       "      <th></th>\n",
       "      <th></th>\n",
       "      <th></th>\n",
       "    </tr>\n",
       "  </thead>\n",
       "  <tbody>\n",
       "    <tr>\n",
       "      <th>109/10/05</th>\n",
       "      <td>103.45</td>\n",
       "      <td>103.05</td>\n",
       "      <td>NaN</td>\n",
       "      <td>NaN</td>\n",
       "    </tr>\n",
       "    <tr>\n",
       "      <th>109/10/06</th>\n",
       "      <td>104.00</td>\n",
       "      <td>104.25</td>\n",
       "      <td>NaN</td>\n",
       "      <td>NaN</td>\n",
       "    </tr>\n",
       "    <tr>\n",
       "      <th>109/10/07</th>\n",
       "      <td>104.00</td>\n",
       "      <td>104.80</td>\n",
       "      <td>NaN</td>\n",
       "      <td>NaN</td>\n",
       "    </tr>\n",
       "    <tr>\n",
       "      <th>109/10/08</th>\n",
       "      <td>105.45</td>\n",
       "      <td>106.20</td>\n",
       "      <td>105.45</td>\n",
       "      <td>106.35</td>\n",
       "    </tr>\n",
       "    <tr>\n",
       "      <th>109/10/12</th>\n",
       "      <td>106.70</td>\n",
       "      <td>107.05</td>\n",
       "      <td>106.70</td>\n",
       "      <td>107.70</td>\n",
       "    </tr>\n",
       "    <tr>\n",
       "      <th>109/10/13</th>\n",
       "      <td>107.35</td>\n",
       "      <td>107.10</td>\n",
       "      <td>107.35</td>\n",
       "      <td>107.60</td>\n",
       "    </tr>\n",
       "    <tr>\n",
       "      <th>109/10/14</th>\n",
       "      <td>NaN</td>\n",
       "      <td>NaN</td>\n",
       "      <td>107.05</td>\n",
       "      <td>107.20</td>\n",
       "    </tr>\n",
       "    <tr>\n",
       "      <th>109/10/15</th>\n",
       "      <td>NaN</td>\n",
       "      <td>NaN</td>\n",
       "      <td>106.50</td>\n",
       "      <td>106.50</td>\n",
       "    </tr>\n",
       "  </tbody>\n",
       "</table>\n",
       "</div>"
      ],
      "text/plain": [
       "           open_left   close  open_right    high\n",
       "date                                            \n",
       "109/10/05     103.45  103.05         NaN     NaN\n",
       "109/10/06     104.00  104.25         NaN     NaN\n",
       "109/10/07     104.00  104.80         NaN     NaN\n",
       "109/10/08     105.45  106.20      105.45  106.35\n",
       "109/10/12     106.70  107.05      106.70  107.70\n",
       "109/10/13     107.35  107.10      107.35  107.60\n",
       "109/10/14        NaN     NaN      107.05  107.20\n",
       "109/10/15        NaN     NaN      106.50  106.50"
      ]
     },
     "execution_count": 23,
     "metadata": {},
     "output_type": "execute_result"
    }
   ],
   "source": [
    "# 合併的另一種方法.join()，利用兩個 DataFrame 的索引標籤(index)進行連結操作\n",
    "# 除了 date 是索引標籤(index)以外兩資料還有一個 open 欄位名稱重複，\n",
    "# 因為 join 不像 merge 會自動對於重複欄位產生字尾，所以需要參數 lsuffix、rsuffix 加上指定字尾。\n",
    "stock_data1_index = stock_data1.set_index('date')\n",
    "stock_data2_index = stock_data2.set_index('date')\n",
    "\n",
    "stock_data1_index.join(stock_data2_index, how = 'outer', lsuffix = '_left', rsuffix = '_right')"
   ]
  },
  {
   "cell_type": "code",
   "execution_count": 25,
   "metadata": {},
   "outputs": [
    {
     "name": "stdout",
     "output_type": "stream",
     "text": [
      "a    1\n",
      "b    4\n",
      "Name: A, dtype: int64\n",
      "a    2\n",
      "b    5\n",
      "Name: B, dtype: int64\n"
     ]
    }
   ],
   "source": [
    "# 利用欄位名稱選取單行資料\n",
    "\n",
    "import pandas as pd\n",
    "\n",
    "df = pd.DataFrame([[1, 2, 3], [4, 5, 6]], index=['a', 'b'], columns=['A', 'B', 'C'])\n",
    "#    A  B  C\n",
    "# a  1  2  3\n",
    "# b  4  5  6\n",
    "\n",
    "print(df['A'])\n",
    "print(df['B'])\n"
   ]
  },
  {
   "cell_type": "code",
   "execution_count": 4,
   "metadata": {},
   "outputs": [
    {
     "name": "stdout",
     "output_type": "stream",
     "text": [
      "   A  B\n",
      "a  1  2\n",
      "b  4  5\n",
      "   A  C\n",
      "a  1  3\n",
      "b  4  6\n"
     ]
    }
   ],
   "source": [
    "# 利用欄位名稱選取多行資料\n",
    "\n",
    "import pandas as pd\n",
    "\n",
    "df = pd.DataFrame([[1, 2, 3], [4, 5, 6]], index=['a', 'b'], columns=['A', 'B', 'C'])\n",
    "#    A  B  C\n",
    "# a  1  2  3\n",
    "# b  4  5  6\n",
    "\n",
    "print(df[['A', 'B']])\n",
    "print(df[['A', 'C']])\n"
   ]
  },
  {
   "cell_type": "code",
   "execution_count": 27,
   "metadata": {},
   "outputs": [
    {
     "name": "stdout",
     "output_type": "stream",
     "text": [
      "Empty DataFrame\n",
      "Columns: [A, B, C]\n",
      "Index: []\n",
      "Empty DataFrame\n",
      "Columns: [A, B, C]\n",
      "Index: []\n",
      "   A  B  C\n",
      "a  1  2  3\n",
      "   A  B  C\n",
      "a  1  2  3\n",
      "b  4  5  6\n"
     ]
    }
   ],
   "source": [
    "# 利用列索引位置選取單列/多列資料\n",
    "\n",
    "import pandas as pd\n",
    "\n",
    "df = pd.DataFrame([[1, 2, 3], [4, 5, 6]], index=['a', 'b'], columns=['A', 'B', 'C'])\n",
    "#    A  B  C\n",
    "# a  1  2  3\n",
    "# b  4  5  6\n",
    "\n",
    "print(df[0:0])\n",
    "# Empty DataFrame\n",
    "print(df[1:1])\n",
    "# Empty DataFrame\n",
    "print(df[0:1])\n",
    "#    A  B  C\n",
    "# a  1  2  3\n",
    "print(df[0:2])\n",
    "#    A  B  C\n",
    "# a  1  2  3\n",
    "# b  4  5  6"
   ]
  },
  {
   "cell_type": "code",
   "execution_count": 29,
   "metadata": {},
   "outputs": [
    {
     "name": "stdout",
     "output_type": "stream",
     "text": [
      "1\n",
      "A    1\n",
      "B    2\n",
      "Name: a, dtype: int64\n",
      "a    1\n",
      "b    4\n",
      "Name: A, dtype: int64\n",
      "   A  B\n",
      "a  1  2\n",
      "b  4  5\n"
     ]
    }
   ],
   "source": [
    "# 用 loc, iloc, ix 取得行與列\n",
    "# 座標選取的方法 .loc[...]\n",
    "import pandas as pd\n",
    "\n",
    "df = pd.DataFrame([[1, 2, 3], [4, 5, 6]], index=['a', 'b'], columns=['A', 'B', 'C'])\n",
    "#    A  B  C\n",
    "# a  1  2  3\n",
    "# b  4  5  6\n",
    "\n",
    "print(df.loc['a', 'A'])\n",
    "# 1\n",
    "\n",
    "print(df.loc['a', ['A', 'B']])\n",
    "# A    1\n",
    "# B    2\n",
    "# Name: a, dtype: int64\n",
    "\n",
    "print(df.loc[['a', 'b'], 'A'])\n",
    "# a    1\n",
    "# b    4\n",
    "#Name: A, dtype: int64\n",
    "\n",
    "print(df.loc[['a', 'b'], ['A', 'B']])\n",
    "#    A  B\n",
    "# a  1  2\n",
    "# b  4  5"
   ]
  },
  {
   "cell_type": "code",
   "execution_count": 31,
   "metadata": {},
   "outputs": [
    {
     "name": "stdout",
     "output_type": "stream",
     "text": [
      "1\n",
      "A    1\n",
      "B    2\n",
      "Name: a, dtype: int64\n",
      "a    1\n",
      "b    4\n",
      "Name: A, dtype: int64\n",
      "   A  B\n",
      "a  1  2\n",
      "b  4  5\n"
     ]
    }
   ],
   "source": [
    "import pandas as pd\n",
    "#  iloc[...] ，可以索引位置的方法來選出資料\n",
    "\n",
    "df = pd.DataFrame([[1, 2, 3], [4, 5, 6]], index=['a', 'b'], columns=['A', 'B', 'C'])\n",
    "#    A  B  C\n",
    "# a  1  2  3\n",
    "# b  4  5  6\n",
    "\n",
    "print(df.iloc[0, 0])\n",
    "# 1\n",
    "\n",
    "print(df.iloc[0, [0, 1]])\n",
    "# A    1\n",
    "# B    2\n",
    "# Name: a, dtype: int64\n",
    "\n",
    "print(df.iloc[[0, 1], 0])\n",
    "# a    1\n",
    "# b    4\n",
    "#Name: A, dtype: int64\n",
    "\n",
    "print(df.iloc[[0, 1], [0, 1]])\n",
    "#    A  B\n",
    "# a  1  2\n",
    "# b  4  5"
   ]
  },
  {
   "cell_type": "code",
   "execution_count": 38,
   "metadata": {},
   "outputs": [
    {
     "ename": "AttributeError",
     "evalue": "'DataFrame' object has no attribute 'ix'",
     "output_type": "error",
     "traceback": [
      "\u001b[0;31m---------------------------------------------------------------------------\u001b[0m",
      "\u001b[0;31mAttributeError\u001b[0m                            Traceback (most recent call last)",
      "\u001b[0;32m<ipython-input-38-b69b467504ad>\u001b[0m in \u001b[0;36m<module>\u001b[0;34m\u001b[0m\n\u001b[1;32m      9\u001b[0m \u001b[0;31m# b  4  5  6\u001b[0m\u001b[0;34m\u001b[0m\u001b[0;34m\u001b[0m\u001b[0;34m\u001b[0m\u001b[0m\n\u001b[1;32m     10\u001b[0m \u001b[0;34m\u001b[0m\u001b[0m\n\u001b[0;32m---> 11\u001b[0;31m \u001b[0mprint\u001b[0m\u001b[0;34m(\u001b[0m\u001b[0mdf\u001b[0m\u001b[0;34m.\u001b[0m\u001b[0mix\u001b[0m\u001b[0;34m[\u001b[0m\u001b[0;36m0\u001b[0m\u001b[0;34m,\u001b[0m \u001b[0;34m'A'\u001b[0m\u001b[0;34m]\u001b[0m\u001b[0;34m)\u001b[0m\u001b[0;34m\u001b[0m\u001b[0;34m\u001b[0m\u001b[0m\n\u001b[0m\u001b[1;32m     12\u001b[0m \u001b[0;31m# 1\u001b[0m\u001b[0;34m\u001b[0m\u001b[0;34m\u001b[0m\u001b[0;34m\u001b[0m\u001b[0m\n\u001b[1;32m     13\u001b[0m \u001b[0;34m\u001b[0m\u001b[0m\n",
      "\u001b[0;32m~/opt/anaconda3/lib/python3.8/site-packages/pandas/core/generic.py\u001b[0m in \u001b[0;36m__getattr__\u001b[0;34m(self, name)\u001b[0m\n\u001b[1;32m   5137\u001b[0m             \u001b[0;32mif\u001b[0m \u001b[0mself\u001b[0m\u001b[0;34m.\u001b[0m\u001b[0m_info_axis\u001b[0m\u001b[0;34m.\u001b[0m\u001b[0m_can_hold_identifiers_and_holds_name\u001b[0m\u001b[0;34m(\u001b[0m\u001b[0mname\u001b[0m\u001b[0;34m)\u001b[0m\u001b[0;34m:\u001b[0m\u001b[0;34m\u001b[0m\u001b[0;34m\u001b[0m\u001b[0m\n\u001b[1;32m   5138\u001b[0m                 \u001b[0;32mreturn\u001b[0m \u001b[0mself\u001b[0m\u001b[0;34m[\u001b[0m\u001b[0mname\u001b[0m\u001b[0;34m]\u001b[0m\u001b[0;34m\u001b[0m\u001b[0;34m\u001b[0m\u001b[0m\n\u001b[0;32m-> 5139\u001b[0;31m             \u001b[0;32mreturn\u001b[0m \u001b[0mobject\u001b[0m\u001b[0;34m.\u001b[0m\u001b[0m__getattribute__\u001b[0m\u001b[0;34m(\u001b[0m\u001b[0mself\u001b[0m\u001b[0;34m,\u001b[0m \u001b[0mname\u001b[0m\u001b[0;34m)\u001b[0m\u001b[0;34m\u001b[0m\u001b[0;34m\u001b[0m\u001b[0m\n\u001b[0m\u001b[1;32m   5140\u001b[0m \u001b[0;34m\u001b[0m\u001b[0m\n\u001b[1;32m   5141\u001b[0m     \u001b[0;32mdef\u001b[0m \u001b[0m__setattr__\u001b[0m\u001b[0;34m(\u001b[0m\u001b[0mself\u001b[0m\u001b[0;34m,\u001b[0m \u001b[0mname\u001b[0m\u001b[0;34m:\u001b[0m \u001b[0mstr\u001b[0m\u001b[0;34m,\u001b[0m \u001b[0mvalue\u001b[0m\u001b[0;34m)\u001b[0m \u001b[0;34m->\u001b[0m \u001b[0;32mNone\u001b[0m\u001b[0;34m:\u001b[0m\u001b[0;34m\u001b[0m\u001b[0;34m\u001b[0m\u001b[0m\n",
      "\u001b[0;31mAttributeError\u001b[0m: 'DataFrame' object has no attribute 'ix'"
     ]
    }
   ],
   "source": [
    "import pandas as pd\n",
    "\n",
    "# 想同時使用名稱跟位置來選資料的話，也可以使用 .ix[...] 的方法\n",
    "# .ix is deprecated\n",
    "\n",
    "df = pd.DataFrame([[1, 2, 3], [4, 5, 6]], index=['a', 'b'], columns=['A', 'B', 'C'])\n",
    "#    A  B  C\n",
    "# a  1  2  3\n",
    "# b  4  5  6\n",
    "\n",
    "print(df.ix[0, 'A'])\n",
    "# 1\n",
    "\n",
    "print(df.ix['a', [0, 1]])\n",
    "# A    1\n",
    "# B    2\n",
    "# Name: a, dtype: int64\n",
    "\n",
    "print(df.ix[['a', 'b'], 0])\n",
    "# a    1\n",
    "# b    4\n",
    "#Name: A, dtype: int64\n",
    "\n",
    "print(df.ix[[0, 1], ['A', 'B']])\n",
    "#    A  B\n",
    "# a  1  2\n",
    "# b  4  5"
   ]
  },
  {
   "cell_type": "code",
   "execution_count": 40,
   "metadata": {},
   "outputs": [
    {
     "name": "stdout",
     "output_type": "stream",
     "text": [
      "1\n",
      "2\n",
      "1\n",
      "2\n",
      "<pandas.core.indexing._LocIndexer object at 0x7ff8c27553b0>\n",
      "<class 'pandas.core.indexing._LocIndexer'>\n"
     ]
    }
   ],
   "source": [
    "# 用 iat, at 取得資料\n",
    "# .loc[...] 的用法並不是一個函式，.loc 本身其實是一個特殊的物件，搭配 [...] 方式做座標選取。\n",
    "\n",
    "print(df.loc['a', 'A']) # 1\n",
    "print(df.iloc[0, 1]) # 2\n",
    "\n",
    "print(df.at['a', 'A']) # 1\n",
    "print(df.iat[0, 1]) # 2\n",
    "\n",
    "print(df.loc)\n",
    "# <pandas.core.indexing._LocIndexer object at 0x7ff8c27553b0>\n",
    "print(type(df.loc))\n",
    "# <class 'pandas.core.indexing._LocIndexer'>"
   ]
  },
  {
   "cell_type": "code",
   "execution_count": 10,
   "metadata": {},
   "outputs": [
    {
     "name": "stdout",
     "output_type": "stream",
     "text": [
      "       A      B     C\n",
      "a  False  False  True\n",
      "b   True   True  True\n",
      "     A    B  C\n",
      "a  NaN  NaN  3\n",
      "b  4.0  5.0  6\n"
     ]
    }
   ],
   "source": [
    "# 根據條件篩選資料（遮罩）\n",
    "\n",
    "#    A  B  C\n",
    "# a  1  2  3\n",
    "# b  4  5  6\n",
    "\n",
    "print(df > 2)\n",
    "#        A      B     C\n",
    "# a  False  False  True\n",
    "# b   True   True  True\n",
    "\n",
    "print(df[df > 2])\n",
    "#      A    B  C\n",
    "# a  NaN  NaN  3\n",
    "# b  4.0  5.0  6"
   ]
  },
  {
   "cell_type": "code",
   "execution_count": 11,
   "metadata": {},
   "outputs": [
    {
     "name": "stdout",
     "output_type": "stream",
     "text": [
      "a    False\n",
      "b     True\n",
      "Name: A, dtype: bool\n",
      "   A  B  C\n",
      "b  4  5  6\n"
     ]
    }
   ],
   "source": [
    "#    A  B  C\n",
    "# a  1  2  3\n",
    "# b  4  5  6\n",
    "\n",
    "print(df['A'] > 2)\n",
    "# a    False\n",
    "# b     True\n",
    "# Name: A, dtype: bool\n",
    "\n",
    "print(df[df['A'] > 2])\n",
    "#    A  B  C\n",
    "# b  4  5  6"
   ]
  },
  {
   "cell_type": "code",
   "execution_count": null,
   "metadata": {},
   "outputs": [],
   "source": []
  }
 ],
 "metadata": {
  "kernelspec": {
   "display_name": "Python 3",
   "language": "python",
   "name": "python3"
  },
  "language_info": {
   "codemirror_mode": {
    "name": "ipython",
    "version": 3
   },
   "file_extension": ".py",
   "mimetype": "text/x-python",
   "name": "python",
   "nbconvert_exporter": "python",
   "pygments_lexer": "ipython3",
   "version": "3.8.5"
  }
 },
 "nbformat": 4,
 "nbformat_minor": 2
}
