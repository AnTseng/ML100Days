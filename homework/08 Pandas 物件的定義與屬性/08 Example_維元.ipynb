{
 "cells": [
  {
   "cell_type": "markdown",
   "metadata": {},
   "source": [
    "# 範例\n",
    "***"
   ]
  },
  {
   "cell_type": "markdown",
   "metadata": {},
   "source": [
    "# [教學目標]\n",
    "\n",
    "* 知道 Pandas 的特性與貢獻\n",
    "* 能夠使用 DataFrame 與 Series 當中的屬性\n",
    "* 初步理解 Seies、DataFrame 與 NdArray 的比較\n"
   ]
  },
  {
   "cell_type": "code",
   "execution_count": 1,
   "metadata": {},
   "outputs": [
    {
     "name": "stdout",
     "output_type": "stream",
     "text": [
      "<module 'numpy' from '/Users/cm0675/opt/anaconda3/lib/python3.8/site-packages/numpy/__init__.py'>\n",
      "1.19.2\n",
      "<module 'pandas' from '/Users/cm0675/opt/anaconda3/lib/python3.8/site-packages/pandas/__init__.py'>\n",
      "1.1.3\n"
     ]
    }
   ],
   "source": [
    "# 載入 NumPy, Pandas 套件\n",
    "import numpy as np\n",
    "import pandas as pd\n",
    "\n",
    "# 檢查正確載入與版本\n",
    "print(np)\n",
    "print(np.__version__)\n",
    "print(pd)\n",
    "print(pd.__version__)"
   ]
  },
  {
   "cell_type": "code",
   "execution_count": 2,
   "metadata": {},
   "outputs": [
    {
     "name": "stdout",
     "output_type": "stream",
     "text": [
      "0    1\n",
      "1    2\n",
      "2    3\n",
      "dtype: int64\n",
      "<class 'pandas.core.series.Series'>\n"
     ]
    }
   ],
   "source": [
    "# Pandas 最重要的貢獻是提出了兩種資料結構：「DataFrame」和「Series」。\n",
    "# Series 是一種一維的資料結構，用來一定序列型的資料。DataFrame 是二維的資料結構，用表格的形式存放常見的資料內容。\n",
    "# 從 Series 和 DataFrame 開始\n",
    "\n",
    "s = pd.Series([1, 2, 3])\n",
    "# 0    1\n",
    "# 1    2\n",
    "# 2    3\n",
    "\n",
    "print(s)\n",
    "# dtype: int64\n",
    "\n",
    "print(type(s))\n",
    "# <class 'pandas.core.series.Series'>"
   ]
  },
  {
   "cell_type": "code",
   "execution_count": 3,
   "metadata": {},
   "outputs": [
    {
     "name": "stdout",
     "output_type": "stream",
     "text": [
      "   0\n",
      "0  1\n",
      "1  2\n",
      "2  3\n",
      "<class 'pandas.core.frame.DataFrame'>\n"
     ]
    }
   ],
   "source": [
    "\n",
    "df = pd.DataFrame([1, 2, 3])\n",
    "#     0\n",
    "# 0  1\n",
    "# 1  2\n",
    "# 2  3\n",
    "\n",
    "print(df)\n",
    "\n",
    "print(type(df))\n",
    "# <class 'pandas.core.frame.DataFrame'>"
   ]
  },
  {
   "cell_type": "code",
   "execution_count": 5,
   "metadata": {},
   "outputs": [
    {
     "name": "stdout",
     "output_type": "stream",
     "text": [
      "(3,)\n",
      "3\n",
      "int64\n"
     ]
    }
   ],
   "source": [
    "# Series 的常用屬性\n",
    "# Series 其實就是 NumPy 的 Array 的加工品，所以 Array 有的屬性， Series 絕大部分都可延用\n",
    "\n",
    "s = pd.Series([1, 2, 3])\n",
    "print(s.shape) # (3, ) # Return a tuple of the shape of the underlying data.\n",
    "print(s.size) # 3\n",
    "print(s.dtype) # int64\n",
    "\n"
   ]
  },
  {
   "cell_type": "code",
   "execution_count": 7,
   "metadata": {},
   "outputs": [
    {
     "name": "stdout",
     "output_type": "stream",
     "text": [
      "(3, 1)\n",
      "3\n",
      "0    int64\n",
      "dtype: object\n"
     ]
    }
   ],
   "source": [
    "# DataFrame 的常用屬性\n",
    "# DataFrame 也是 NumPy 的 Array 的加工品，所以 Array 有的屬性， DataFrame 一樣可以使用\n",
    "\n",
    "df = pd.DataFrame([1, 2, 3])\n",
    "print(df.shape) # (3, 1)\n",
    "print(df.size) # 3\n",
    "print(df.dtypes) \n"
   ]
  },
  {
   "cell_type": "code",
   "execution_count": null,
   "metadata": {},
   "outputs": [],
   "source": [
    "# Pandas 大部分沿用 NumPy 定義的型態，只是沒有那麼嚴格。\n",
    "# 除此之外， Pandas 新增了兩種在資料分析時常用的型態「timedelta」和「category」\n",
    "\n",
    "# 那你可以會問既然 Seies、DataFrame 都是由陣列所封裝而成的加工品，那為什麼不直接用陣列就好呢？\n",
    "# 陣列當中所有資料型態必須相同，而 DataFrame 是由  Seies 所組成，也就說同一個欄位形態相同，欄位與欄位間可不相同"
   ]
  }
 ],
 "metadata": {
  "kernelspec": {
   "display_name": "Python 3",
   "language": "python",
   "name": "python3"
  },
  "language_info": {
   "codemirror_mode": {
    "name": "ipython",
    "version": 3
   },
   "file_extension": ".py",
   "mimetype": "text/x-python",
   "name": "python",
   "nbconvert_exporter": "python",
   "pygments_lexer": "ipython3",
   "version": "3.8.5"
  }
 },
 "nbformat": 4,
 "nbformat_minor": 2
}
