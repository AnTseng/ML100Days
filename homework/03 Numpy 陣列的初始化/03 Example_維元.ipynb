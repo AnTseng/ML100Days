{
 "cells": [
  {
   "cell_type": "markdown",
   "metadata": {
    "id": "XZ5H6uQv1Oo3"
   },
   "source": [
    "# 範例\n",
    "***"
   ]
  },
  {
   "cell_type": "markdown",
   "metadata": {
    "id": "O9XVaI1E1OpA"
   },
   "source": [
    "# [教學目標]\n",
    "\n",
    "* 能夠使用不同的方法初始化一個陣列\n",
    "* 知道固定大小對於陣列的意義\n",
    "* 了解不同的亂數陣列有什麼差異\n",
    "\n"
   ]
  },
  {
   "cell_type": "code",
   "execution_count": null,
   "metadata": {
    "id": "Z6Hj66lj1OpB",
    "outputId": "d5f18872-c671-43cb-a586-e216ca651d40"
   },
   "outputs": [
    {
     "name": "stdout",
     "output_type": "stream",
     "text": [
      "<module 'numpy' from '/Users/wei/.virtualenvs/py3/lib/python3.6/site-packages/numpy/__init__.py'>\n",
      "1.16.1\n"
     ]
    }
   ],
   "source": [
    "# 載入 NumPy 套件\n",
    "import numpy as np\n",
    "\n",
    "# 檢查正確載入與版本\n",
    "print(np)\n",
    "print(np.__version__)"
   ]
  },
  {
   "cell_type": "code",
   "execution_count": 3,
   "metadata": {
    "id": "77SyjUq01OpD",
    "outputId": "213fca59-8031-4c2f-e9aa-a5c21a69c950"
   },
   "outputs": [
    {
     "data": {
      "text/plain": [
       "array([1, 2, 3])"
      ]
     },
     "execution_count": 3,
     "metadata": {},
     "output_type": "execute_result"
    }
   ],
   "source": [
    "# 內建型態做轉換\n",
    "\n",
    "import numpy as np\n",
    "\n",
    "np.array([1, 2, 3])"
   ]
  },
  {
   "cell_type": "code",
   "execution_count": 4,
   "metadata": {
    "id": "CAVhCEsw1OpE",
    "outputId": "916cef03-6066-4d18-afb2-8e683b80ff13"
   },
   "outputs": [
    {
     "name": "stdout",
     "output_type": "stream",
     "text": [
      "[1. 2. 3.] float64\n",
      "[1.+0.j 2.+0.j 3.+0.j] complex128\n"
     ]
    }
   ],
   "source": [
    "# numpy.array(object, dtype=None, *, copy=True, order='K', subok=False, ndmin=0, like=None)\n",
    "#- object：必填，任何 array_like 物件\n",
    "#- dtype：指定轉成陣列後的元素型態\n",
    "#- copy：預設為 True，是否產生一個新的物件\n",
    "#- order：指定元素在記憶體中的儲存方式\n",
    "\n",
    "\n",
    "# 會自動轉換成範圍比較大的型態：\n",
    "\n",
    "print(np.array([1, 2, 3.0]), np.array([1, 2, 3.0]).dtype)\n",
    "\n",
    "# 也可以指定成想要的型態：\n",
    "\n",
    "print(np.array([1, 2, 3], dtype=complex), np.array([1, 2, 3], dtype=complex).dtype)"
   ]
  },
  {
   "cell_type": "code",
   "execution_count": 5,
   "metadata": {
    "id": "qGssWBdQ1OpE",
    "outputId": "4be02555-56ad-474d-ed02-ae3aa624ae78"
   },
   "outputs": [
    {
     "name": "stdout",
     "output_type": "stream",
     "text": [
      "{0: 123, 1: 456}\n",
      "1\n",
      "[[  0 123]\n",
      " [  1 456]]\n",
      "4\n"
     ]
    }
   ],
   "source": [
    "# 字典型態被轉成陣列不符合期待\n",
    "\n",
    "print(np.array({0: 123, 1: 456}))\n",
    "print(np.array({0: 123, 1: 456}).size)\n",
    "\n",
    "# 正確的寫法應該寫轉成有序的 List 再作轉換\n",
    "\n",
    "print(np.array(list({0: 123, 1: 456}.items())))\n",
    "print(np.array(list({0: 123, 1: 456}.items())).size)"
   ]
  },
  {
   "cell_type": "code",
   "execution_count": null,
   "metadata": {
    "id": "fAYl6c3o1OpE",
    "outputId": "3b2ed56b-7a05-4856-ef75-cdb3750d5fc5"
   },
   "outputs": [
    {
     "name": "stdout",
     "output_type": "stream",
     "text": [
      "[[0. 0. 0.]\n",
      " [0. 0. 0.]]\n",
      "[[1. 1. 1.]\n",
      " [1. 1. 1.]]\n",
      "[[9 9 9]\n",
      " [9 9 9]]\n"
     ]
    }
   ],
   "source": [
    "# 從固定大小的初始值開始\n",
    "# 我們為什麼習慣從固定大小的陣列開始初始化呢？\n",
    "# 主要原因是因為陣列的儲存特性，陣列的元素會配置在連續的記憶體位置。\n",
    "# 每次改動到大小對於記憶體的更動負擔是比較大的，因此希望在一開始就練利一組固定的尺寸避免頻繁改動記憶體\n",
    "\n",
    "print(np.zeros((2, 3))) # 建立由 0 組成的 2x3 陣列\n",
    "print(np.ones((2, 3)))  # 建立由 1 組成的 2x3 陣列\n",
    "print(np.full((2, 3), 9))# 建立由 9 組成的 2x3 陣列\n"
   ]
  },
  {
   "cell_type": "code",
   "execution_count": 6,
   "metadata": {
    "id": "YdUe_4e51OpF",
    "outputId": "52c071cf-46eb-4b35-9cb5-6d010f7bf6f5"
   },
   "outputs": [
    {
     "name": "stdout",
     "output_type": "stream",
     "text": [
      "[[0. 0. 0.]\n",
      " [0. 0. 0.]]\n",
      "[[0. 0. 0.]\n",
      " [0. 0. 0.]]\n"
     ]
    }
   ],
   "source": [
    "# np.zeros 和 np.empty \n",
    "\n",
    "print(np.zeros((2, 3)))\n",
    "print(np.empty((2, 3)))\n",
    "\n",
    "# 呼叫 zeros()、ones() 函式，可以依照傳入的形狀引數，建立元素全為 0、全為 1 的陣列。\n",
    "# 使用 empty() 函式則是不需要給定起始值，但是可以建立給定形狀的陣列，元素值則會隨機給定。"
   ]
  },
  {
   "cell_type": "code",
   "execution_count": null,
   "metadata": {
    "id": "oYx_QqYi1OpG",
    "outputId": "275964be-4c8b-41d8-b052-3d2d69adf4b5"
   },
   "outputs": [
    {
     "name": "stdout",
     "output_type": "stream",
     "text": [
      "[10 15 20 25]\n",
      "[0. 1. 2.]\n",
      "[  1.  10. 100.]\n"
     ]
    }
   ],
   "source": [
    "# 從固定大小的序列值開始\n",
    "\n",
    "print(np.arange( 10, 30, 5 )) # 固定長度的等差序列\n",
    "print(np.linspace( 0, 2, 3 )) # 固定區間的等差序列\n",
    "print(np.logspace( 0, 2, 3 )) # 等比序列\n"
   ]
  },
  {
   "cell_type": "code",
   "execution_count": 9,
   "metadata": {
    "id": "pX77QLqn1OpG",
    "outputId": "7047e4a8-b304-47c8-a0f2-ec05090af392"
   },
   "outputs": [
    {
     "name": "stdout",
     "output_type": "stream",
     "text": [
      "normal\n",
      " [[ 0.58097278  0.03512761]\n",
      " [ 0.69645843 -0.53628837]\n",
      " [-2.54306416  0.47811262]]\n",
      "random\n",
      " [[0.12985589 0.3980884 ]\n",
      " [0.85769946 0.08609236]\n",
      " [0.14083457 0.91058565]]\n",
      "integers\n",
      " [[0 5]\n",
      " [5 8]\n",
      " [7 8]]\n"
     ]
    }
   ],
   "source": [
    "## 從固定大小的亂數值開始（新版）\n",
    "\n",
    "from numpy.random import default_rng\n",
    "rng = default_rng()\n",
    "\n",
    "normal = rng.standard_normal((3,2))\n",
    "random = rng.random((3,2))\n",
    "integers = rng.integers(0, 10, size=(3,2))\n",
    "\n",
    "print('normal\\n', normal)\n",
    "print('random\\n', random)\n",
    "print('integers\\n', integers)"
   ]
  },
  {
   "cell_type": "code",
   "execution_count": null,
   "metadata": {
    "id": "ReTrub901OpH",
    "outputId": "7a10f7b7-5080-4732-f598-0ee70fb21a9d"
   },
   "outputs": [
    {
     "name": "stdout",
     "output_type": "stream",
     "text": [
      "[[-0.85696769 -0.03929064 -0.43855898]\n",
      " [ 0.77037149 -0.51963871 -0.25234342]]\n",
      "[[0.05117243 0.44764696]\n",
      " [0.35231559 0.60465553]\n",
      " [0.38218634 0.72874085]]\n",
      "[[7 2]\n",
      " [2 9]\n",
      " [5 5]]\n"
     ]
    }
   ],
   "source": [
    "## 從固定大小的亂數值開始（舊版）\n",
    "\n",
    "normal = np.random.randn(2, 3)\n",
    "random = np.random.random((3,2))\n",
    "integers = np.random.randint(0, 10, size=(3,2))\n",
    "\n",
    "print(normal)\n",
    "print(random)\n",
    "print(integers)"
   ]
  },
  {
   "cell_type": "code",
   "execution_count": 14,
   "metadata": {
    "id": "LOe1HrKf1OpH"
   },
   "outputs": [
    {
     "name": "stdout",
     "output_type": "stream",
     "text": [
      "[('', 0, 0, '') ('', 0, 0, '') ('', 0, 0, '')]\n",
      "After\n",
      " [('Chloe', 11, 14, 'Y') ('Charl', 12, 15, 'Y') ('Clara', 13, 16, 'N')]\n"
     ]
    }
   ],
   "source": [
    "# NumPy 結構化陣列 (Structured Arrays)\n",
    "\n",
    "# 透過 dictionary 型別的資料建立 np.dtype 物件，並指定 dtype 給陣列\n",
    "dt = np.dtype({'names':('Name', 'num1', 'num2', 'True'), 'formats':((np.str_, 5), np.int32, int, 'U3')})\n",
    "b = np.genfromtxt(\"structured.txt\", delimiter=',', dtype=dt)\n",
    "b\n",
    "\n",
    "b['Name'] # 也可以用 Column 名稱，取得 Column 所有元素值\n",
    "b[b['num2'] >= 3]['Name'] # 也可以進行邏輯操作，取得對應的結果\n",
    "\n",
    "# 下例使用 zeros() 初始化陣列，並指定 dtype\n",
    "c = np.zeros(3, dtype=dt)\n",
    "print(c)\n",
    "name = ['Chloe', 'Charlotte', 'Clara']\n",
    "num_1 = [11, 12, 13]\n",
    "num_2 = [14, 15, 16]\n",
    "check = ['Y', 'Y', 'N']\n",
    "\n",
    "c['Name'] = name\n",
    "c['num1'] = num_1\n",
    "c['num2'] = num_2\n",
    "c['True'] = check\n",
    "print('After\\n',c)\n",
    "\n"
   ]
  },
  {
   "cell_type": "code",
   "execution_count": 17,
   "metadata": {
    "id": "7_VHGN_r1OpH"
   },
   "outputs": [
    {
     "name": "stdout",
     "output_type": "stream",
     "text": [
      "['Chloe' 'Charl' 'Clara']\n"
     ]
    }
   ],
   "source": [
    "# NumPy 結構化陣列：RecordArray\n",
    "\n",
    "# RecordArray 與 Structured Array 非常類似，但是提供更多的屬性可以用來存取結構化陣列。\n",
    "# 不過 RecordArray 雖然方便但是在效能上會比原來的陣列差。\n",
    "c_rec = c.view(np.recarray)\n",
    "\n",
    "# 原先我們是透過索引或是名稱存取元素值，但是 RecordArray 可以使用屬性的方式來取得。\n",
    "print(c_rec.Name)"
   ]
  },
  {
   "cell_type": "code",
   "execution_count": null,
   "metadata": {},
   "outputs": [],
   "source": []
  }
 ],
 "metadata": {
  "colab": {
   "name": "03 Example_維元.ipynb",
   "provenance": []
  },
  "kernelspec": {
   "display_name": "Python 3",
   "language": "python",
   "name": "python3"
  },
  "language_info": {
   "codemirror_mode": {
    "name": "ipython",
    "version": 3
   },
   "file_extension": ".py",
   "mimetype": "text/x-python",
   "name": "python",
   "nbconvert_exporter": "python",
   "pygments_lexer": "ipython3",
   "version": "3.8.5"
  }
 },
 "nbformat": 4,
 "nbformat_minor": 1
}
