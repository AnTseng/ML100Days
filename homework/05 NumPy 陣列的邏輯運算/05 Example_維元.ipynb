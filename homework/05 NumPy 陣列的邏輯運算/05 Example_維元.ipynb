{
 "cells": [
  {
   "cell_type": "markdown",
   "metadata": {
    "id": "6h-WgV39ONYX"
   },
   "source": [
    "# 範例\n",
    "***"
   ]
  },
  {
   "cell_type": "markdown",
   "metadata": {
    "id": "-xhRK_JYONYi"
   },
   "source": [
    "# [教學目標]\n",
    "\n",
    "* 正確的使用 NumPy 中的比較與邏輯運算\n",
    "* 掌握 NumPy 陣列的遮罩特性與使用\n",
    "* 知道 NumPy 陣列與 Python 列表的用法差異\n",
    "\n",
    "\n"
   ]
  },
  {
   "cell_type": "code",
   "execution_count": 1,
   "metadata": {
    "id": "VL_zfVEMONYj",
    "outputId": "49130b79-8b5e-49d3-e815-32e7587c630f"
   },
   "outputs": [
    {
     "name": "stdout",
     "output_type": "stream",
     "text": [
      "<module 'numpy' from '/Users/cm0675/opt/anaconda3/lib/python3.8/site-packages/numpy/__init__.py'>\n",
      "1.19.2\n"
     ]
    }
   ],
   "source": [
    "# 載入 NumPy 套件\n",
    "import numpy as np\n",
    "\n",
    "# 檢查正確載入與版本\n",
    "print(np)\n",
    "print(np.__version__)"
   ]
  },
  {
   "cell_type": "code",
   "execution_count": 2,
   "metadata": {
    "id": "Im70sam2ONYk",
    "outputId": "472c277c-9530-4739-c551-24e392dc0219"
   },
   "outputs": [
    {
     "name": "stdout",
     "output_type": "stream",
     "text": [
      "[ True  True  True  True]\n",
      "[False False False False]\n",
      "[False False False False]\n",
      "[ True  True  True  True]\n"
     ]
    }
   ],
   "source": [
    "# 陣列中的比較運算\n",
    "\n",
    "a = np.array( [20,30,40,50] )\n",
    "b = np.arange( 4 )\n",
    "\n",
    "print(a > b) # [ True  True  True  True]\n",
    "print(a < b) # [False False False False]\n",
    "print(a == b) # [False False False False]\n",
    "print(a != b) # [ True  True  True  True]\n"
   ]
  },
  {
   "cell_type": "code",
   "execution_count": null,
   "metadata": {
    "id": "XZCzytfEONYm",
    "outputId": "bacf6610-3efc-41da-82f3-db3a4cbffb0b"
   },
   "outputs": [
    {
     "ename": "ValueError",
     "evalue": "The truth value of an array with more than one element is ambiguous. Use a.any() or a.all()",
     "output_type": "error",
     "traceback": [
      "\u001b[0;31m----------------------------------------------------------------------\u001b[0m",
      "\u001b[0;31mValueError\u001b[0m                           Traceback (most recent call last)",
      "\u001b[0;32m<ipython-input-4-55f88f2d97bb>\u001b[0m in \u001b[0;36m<module>\u001b[0;34m()\u001b[0m\n\u001b[1;32m      6\u001b[0m \u001b[0mb\u001b[0m \u001b[0;34m=\u001b[0m \u001b[0mnp\u001b[0m\u001b[0;34m.\u001b[0m\u001b[0marray\u001b[0m\u001b[0;34m(\u001b[0m \u001b[0;34m[\u001b[0m\u001b[0;32mTrue\u001b[0m\u001b[0;34m,\u001b[0m \u001b[0;32mFalse\u001b[0m\u001b[0;34m,\u001b[0m \u001b[0;32mTrue\u001b[0m\u001b[0;34m,\u001b[0m \u001b[0;32mFalse\u001b[0m\u001b[0;34m]\u001b[0m  \u001b[0;34m)\u001b[0m\u001b[0;34m\u001b[0m\u001b[0m\n\u001b[1;32m      7\u001b[0m \u001b[0;34m\u001b[0m\u001b[0m\n\u001b[0;32m----> 8\u001b[0;31m \u001b[0mprint\u001b[0m\u001b[0;34m(\u001b[0m\u001b[0ma\u001b[0m \u001b[0;32mand\u001b[0m \u001b[0mb\u001b[0m\u001b[0;34m)\u001b[0m\u001b[0;34m\u001b[0m\u001b[0m\n\u001b[0m",
      "\u001b[0;31mValueError\u001b[0m: The truth value of an array with more than one element is ambiguous. Use a.any() or a.all()"
     ]
    }
   ],
   "source": [
    "# 陣列中的邏輯運算\n",
    "# 在 NumPy 陣列中沒有邏輯運算，可以使用位元運算或是邏輯運算的函式方法取代\n",
    "import numpy as np\n",
    "\n",
    "a = np.array( [True, True, False, False] )\n",
    "b = np.array( [True, False, True, False]  )\n",
    "\n",
    "print(a and b)\n"
   ]
  },
  {
   "cell_type": "code",
   "execution_count": 3,
   "metadata": {
    "id": "njBQ8_IkONYm",
    "outputId": "8b16df59-4ffb-47f6-b068-44d2424a6c34"
   },
   "outputs": [
    {
     "name": "stdout",
     "output_type": "stream",
     "text": [
      "[ True False False False]\n",
      "[ True  True  True False]\n"
     ]
    }
   ],
   "source": [
    "a = np.array( [True, True, False, False] )\n",
    "b = np.array( [True, False, True, False]  )\n",
    "\n",
    "print(a & b) # [ True False False False]\n",
    "print(a | b) # [ True  True  True False]\n"
   ]
  },
  {
   "cell_type": "code",
   "execution_count": 4,
   "metadata": {
    "id": "tqn-DyLgONYn",
    "outputId": "ec1358c2-487f-428c-c90c-55d4f0da98e1"
   },
   "outputs": [
    {
     "name": "stdout",
     "output_type": "stream",
     "text": [
      "[10 20 30 40]\n",
      "[10 30]\n",
      "[]\n"
     ]
    }
   ],
   "source": [
    "# 利用布林值作為篩選的條件：遮罩\n",
    "# 可以用一組 True/False 做為每一個位置的篩選條件，這種方法稱為遮罩（Mask）\n",
    "\n",
    "import numpy as np\n",
    "\n",
    "a = np.array( [10, 20, 30, 40] )\n",
    "\n",
    "print(a[ [True, True, True, True] ])\n",
    "print(a[ [True, False, True, False] ])\n",
    "print(a[ [False, False, False, False] ])\n"
   ]
  },
  {
   "cell_type": "code",
   "execution_count": null,
   "metadata": {
    "id": "M3sDHwaKONYo",
    "outputId": "9335c6d5-c870-4a45-cf76-082f5741490e"
   },
   "outputs": [
    {
     "name": "stdout",
     "output_type": "stream",
     "text": [
      "[False False  True  True]\n",
      "[30 40]\n",
      "[30 40]\n"
     ]
    }
   ],
   "source": [
    "# 從比較/邏輯運算到遮罩特性\n",
    "\n",
    "import numpy as np\n",
    "\n",
    "a = np.array( [10, 20, 30, 40] )\n",
    "\n",
    "print(a > 20)\n",
    "print(a[ [False, False, True, True] ])\n",
    "print(a[ a > 20 ])\n"
   ]
  },
  {
   "cell_type": "code",
   "execution_count": null,
   "metadata": {
    "id": "XGHltEQAONYp",
    "outputId": "7253b646-43d8-46b1-ea02-3b44ee0c2bf0"
   },
   "outputs": [
    {
     "name": "stdout",
     "output_type": "stream",
     "text": [
      "True\n",
      "True\n",
      "False\n"
     ]
    }
   ],
   "source": [
    "# 補充：any() 和 all()\n",
    "\n",
    "print(np.any([True, True, True]))\n",
    "print(np.any([True, False, False]))\n",
    "print(np.any([False, False, False]))\n"
   ]
  },
  {
   "cell_type": "code",
   "execution_count": null,
   "metadata": {},
   "outputs": [],
   "source": [
    "# 我們可以知道在陣列算符合「對齊」、「廣播」以及「遮罩」三個特性\n",
    "# 這三種特性都符合矩陣以整組為單位的運算，而非一個一個元素做比較。這也是陣列和容器最大的差別"
   ]
  },
  {
   "cell_type": "code",
   "execution_count": null,
   "metadata": {
    "id": "WwvZYavxONYo",
    "outputId": "3169ccc4-b55f-4fb2-c1d4-cc2f2731a75f"
   },
   "outputs": [
    {
     "name": "stdout",
     "output_type": "stream",
     "text": [
      "[2 3]\n",
      "[2, 3]\n"
     ]
    }
   ],
   "source": [
    "# 遮罩特性背後的強大之處\n",
    "\n",
    "a = np.arange( 4 )\n",
    "print(a[a > 1])\n",
    "\n",
    "a = np.arange( 4 )\n",
    "b = []\n",
    "for i in a:\n",
    "    if i > 1:\n",
    "        b.append(i)\n",
    "print(b)\n"
   ]
  },
  {
   "cell_type": "code",
   "execution_count": 5,
   "metadata": {
    "id": "HndORgTxONYp",
    "outputId": "3a8cb8e4-2a90-44c3-935e-38644a1a95a5"
   },
   "outputs": [
    {
     "name": "stdout",
     "output_type": "stream",
     "text": [
      "True\n",
      "True\n",
      "False\n",
      "True\n",
      "False\n",
      "False\n"
     ]
    }
   ],
   "source": [
    "import numpy as np\n",
    "# np.all()是AND邏輯的比較\n",
    "# np.any()是OR邏輯的比較\n",
    "\n",
    "print(np.any([True, True, True]))\n",
    "# True\n",
    "print(np.any([True, False, False]))\n",
    "# True\n",
    "print(np.any([False, False, False]))\n",
    "# False\n",
    "\n",
    "print(np.all([True, True, True]))\n",
    "# True\n",
    "print(np.all([True, False, False]))\n",
    "# False\n",
    "print(np.all([False, False, False]))\n",
    "# False\n"
   ]
  },
  {
   "cell_type": "code",
   "execution_count": 8,
   "metadata": {
    "id": "43Ocf4qyONYq"
   },
   "outputs": [
    {
     "data": {
      "text/plain": [
       "array([ True, False])"
      ]
     },
     "execution_count": 8,
     "metadata": {},
     "output_type": "execute_result"
    }
   ],
   "source": [
    "# numpy.nan 與 numpy.NAN 都是 NumPy 常數，代表 Not a Number，\n",
    "# 不過在官方文件中建議統一使用小寫的 nan。\n",
    "\n",
    "# 判斷無限數的函式有 isinf()、isposinf()、isneginf()，\n",
    "# 分別用來判斷判斷陣列元素是否為正無限數或負無限數、是否為正無限數、是否為負無限數\n",
    "\n",
    "# isnat() 的 nat (NaT) 是 not a time 的意思，用來判別陣列元素是否為日期時間。\n",
    "# 若非日期時間 (包括 datetime 或 timedelta) 的話回傳 True，若是的話則回傳 False。\n",
    "\n",
    "# 使用 np.array_equal()、np.array_equiv() 比較 2 個陣列是否相同\n",
    "# 兩個函式不同之處在於 array_equal() 需要形狀完全一樣且元素值皆相同才為 True\n",
    "\n",
    "# 以下的值均認定為非 0，也就是屬於 True：True、NaN、正無限值、負無限值\n",
    "\n",
    "np.all([-1, 4, 0])\n",
    "# Flase\n",
    "np.any([[True, False], [False, False]], axis = 0)\n",
    "# array([ True, False])\n",
    "# 可以依軸 (axis) 進行比較"
   ]
  },
  {
   "cell_type": "code",
   "execution_count": null,
   "metadata": {},
   "outputs": [],
   "source": []
  }
 ],
 "metadata": {
  "colab": {
   "name": "05 Example.ipynb",
   "provenance": []
  },
  "kernelspec": {
   "display_name": "Python 3",
   "language": "python",
   "name": "python3"
  },
  "language_info": {
   "codemirror_mode": {
    "name": "ipython",
    "version": 3
   },
   "file_extension": ".py",
   "mimetype": "text/x-python",
   "name": "python",
   "nbconvert_exporter": "python",
   "pygments_lexer": "ipython3",
   "version": "3.8.5"
  }
 },
 "nbformat": 4,
 "nbformat_minor": 1
}
